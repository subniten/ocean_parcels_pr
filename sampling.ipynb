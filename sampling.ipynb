{
 "cells": [
  {
   "cell_type": "code",
   "execution_count": 1,
   "metadata": {
    "collapsed": true
   },
   "outputs": [],
   "source": [
    "import datetime\n",
    "import pathlib\n",
    "\n",
    "import parcels\n",
    "import xarray\n",
    "from parcels import FieldSet, Field, ParticleSet, JITParticle, AdvectionRK4_3D\n",
    "\n",
    "from parcels import logger, XarrayDecodedFilter\n",
    "\n",
    "logger.addFilter(XarrayDecodedFilter())  # Add a filter for the xarray decoding warning\n",
    "\n",
    "# Subset, lower left corner of my grid\n",
    "enatl_data_path = pathlib.Path('day_1_5')\n"
   ]
  },
  {
   "cell_type": "code",
   "execution_count": 2,
   "outputs": [],
   "source": [
    "mesh_mask_file = enatl_data_path / 'mesh_mask_eNATL60FARSHE_3.6.nc'\n",
    "\n",
    "u_files = sorted(enatl_data_path.glob('*1d_vozocrtx*'))\n",
    "v_files = sorted(enatl_data_path.glob('*1d_vomecrty*'))\n",
    "w_files = sorted(enatl_data_path.glob('*1d_vovecrtz*'))\n",
    "\n",
    "s_files = sorted(enatl_data_path.glob('*1d_vosaline*'))\n",
    "t_files = sorted(enatl_data_path.glob('*1d_votemper*'))\n",
    "\n",
    "lon_lat_w_files = dict(lon=mesh_mask_file, lat=mesh_mask_file, depth=w_files[0])\n",
    "lon_lat_t_files = dict(lon=mesh_mask_file, lat=mesh_mask_file, depth=s_files[0])\n",
    "\n",
    "assert len(u_files) == len(w_files)\n",
    "assert len(u_files) == len(v_files)"
   ],
   "metadata": {
    "collapsed": false
   }
  },
  {
   "cell_type": "code",
   "execution_count": 3,
   "outputs": [],
   "source": [
    "variables = {\n",
    "    'U': 'vozocrtx',\n",
    "    'V': 'vomecrty',\n",
    "    'W': 'vovecrtz',\n",
    "    'S': 'vosaline',\n",
    "    'T': 'votemper',\n",
    "}\n",
    "\n",
    "coords_velocities = dict(lon='glamf', lat='gphif', depth='depthw', time='time_counter')\n",
    "coords_t_points = dict(lon='glamt', lat='gphit', depth='deptht', time='time_counter')\n",
    "\n",
    "dimensions = dict(\n",
    "    U=coords_velocities,\n",
    "    V=coords_velocities,\n",
    "    W=coords_velocities,\n",
    "    S=coords_t_points,\n",
    "    T=coords_t_points,\n",
    ")\n",
    "\n",
    "\n",
    "filenames = dict(\n",
    "    U=dict(data=u_files, **lon_lat_w_files),\n",
    "    V=dict(data=v_files, **lon_lat_w_files),\n",
    "    W=dict(data=w_files, **lon_lat_w_files),\n",
    "    S=dict(data=s_files, **lon_lat_t_files),\n",
    "    T=dict(data=t_files, **lon_lat_t_files),\n",
    ")\n",
    "\n",
    "fieldset = parcels.FieldSet.from_nemo(\n",
    "    filenames=filenames,\n",
    "    variables=variables,\n",
    "    dimensions=dimensions,\n",
    ")"
   ],
   "metadata": {
    "collapsed": false
   }
  },
  {
   "cell_type": "code",
   "execution_count": 7,
   "outputs": [],
   "source": [
    "def DeleteParticle(particle, fieldset, time):\n",
    "    particle.delete()\n",
    "\n",
    "\n",
    "class SampleParticleInitZero(parcels.JITParticle):\n",
    "    u_vel = parcels.Variable('U', initial=0.0)\n",
    "    v_vel = parcels.Variable('V', initial=0.0)\n",
    "    w_vel = parcels.Variable('W', initial=0.0)\n",
    "    temperature = parcels.Variable('temperature', initial=0.0)\n",
    "    salinity = parcels.Variable('salinity', initial=0.0)\n",
    "\n",
    "\n",
    "def sample_field(particle, fieldset, time):\n",
    "    u, v, w = fieldset.UVW[particle]\n",
    "    particle.u_vel = u\n",
    "    particle.v_vel = v\n",
    "    particle.w_vel = w\n",
    "    particle.temperature = fieldset.T[time, particle.depth, particle.lat, particle.lon]\n",
    "    particle.salinity = fieldset.S[time, particle.depth, particle.lat, particle.lon]\n",
    "\n",
    "\n",
    "def setup_kernel(pset):\n",
    "    kernel = parcels.AdvectionRK4_3D + pset.Kernel(sample_field)\n",
    "\n",
    "    return kernel\n"
   ],
   "metadata": {
    "collapsed": false
   }
  },
  {
   "cell_type": "code",
   "execution_count": 8,
   "outputs": [],
   "source": [
    "start_point = (-7.883789, 60.239120)  # y_c = 9, x_r = 21\n",
    "stop_point = (-7.857898, 60.327419)  # y_c = 18, x_r = 21\n",
    "depth = 52.48403405  # z_c = 20\n",
    "\n",
    "pset = ParticleSet.from_line(\n",
    "    fieldset=fieldset,\n",
    "    pclass=SampleParticleInitZero,\n",
    "    size=10,\n",
    "    start=start_point,\n",
    "    finish=stop_point,\n",
    "    depth=depth,\n",
    ")"
   ],
   "metadata": {
    "collapsed": false
   }
  },
  {
   "cell_type": "code",
   "execution_count": 9,
   "outputs": [
    {
     "ename": "AttributeError",
     "evalue": "Particle type PType<ArraySampleParticleInitZero>::[PVar<lon|<class 'numpy.float64'>>, PVar<lat|<class 'numpy.float64'>>, PVar<depth|<class 'numpy.float64'>>, PVar<time|<class 'numpy.float64'>>, PVar<id|<class 'numpy.int64'>>, PVar<dt|<class 'numpy.float64'>>, PVar<_next_dt|<class 'numpy.float64'>>, PVar<once_written|<class 'numpy.int32'>>, PVar<state|<class 'numpy.int32'>>, PVar<U|<class 'numpy.float32'>>, PVar<V|<class 'numpy.float32'>>, PVar<W|<class 'numpy.float32'>>, PVar<temperature|<class 'numpy.float32'>>, PVar<salinity|<class 'numpy.float32'>>, PVar<ngrids|<class 'numpy.int32'>>, PVar<xi|<class 'numpy.int32'>>, PVar<yi|<class 'numpy.int32'>>, PVar<zi|<class 'numpy.int32'>>, PVar<ti|<class 'numpy.int32'>>] does not define attribute \"u_vel\".\nPlease add 'u_vel' to PType<ArraySampleParticleInitZero>::[PVar<lon|<class 'numpy.float64'>>, PVar<lat|<class 'numpy.float64'>>, PVar<depth|<class 'numpy.float64'>>, PVar<time|<class 'numpy.float64'>>, PVar<id|<class 'numpy.int64'>>, PVar<dt|<class 'numpy.float64'>>, PVar<_next_dt|<class 'numpy.float64'>>, PVar<once_written|<class 'numpy.int32'>>, PVar<state|<class 'numpy.int32'>>, PVar<U|<class 'numpy.float32'>>, PVar<V|<class 'numpy.float32'>>, PVar<W|<class 'numpy.float32'>>, PVar<temperature|<class 'numpy.float32'>>, PVar<salinity|<class 'numpy.float32'>>, PVar<ngrids|<class 'numpy.int32'>>, PVar<xi|<class 'numpy.int32'>>, PVar<yi|<class 'numpy.int32'>>, PVar<zi|<class 'numpy.int32'>>, PVar<ti|<class 'numpy.int32'>>].users_vars or define an appropriate sub-class.",
     "output_type": "error",
     "traceback": [
      "\u001B[0;31m---------------------------------------------------------------------------\u001B[0m",
      "\u001B[0;31mAttributeError\u001B[0m                            Traceback (most recent call last)",
      "Cell \u001B[0;32mIn [9], line 1\u001B[0m\n\u001B[0;32m----> 1\u001B[0m kernel \u001B[38;5;241m=\u001B[39m \u001B[43msetup_kernel\u001B[49m\u001B[43m(\u001B[49m\u001B[43mpset\u001B[49m\u001B[43m)\u001B[49m\n\u001B[1;32m      2\u001B[0m \u001B[38;5;66;03m# kernel = parcels.AdvectionRK4_3D\u001B[39;00m\n",
      "Cell \u001B[0;32mIn [7], line 23\u001B[0m, in \u001B[0;36msetup_kernel\u001B[0;34m(pset)\u001B[0m\n\u001B[1;32m     22\u001B[0m \u001B[38;5;28;01mdef\u001B[39;00m \u001B[38;5;21msetup_kernel\u001B[39m(pset):\n\u001B[0;32m---> 23\u001B[0m     kernel \u001B[38;5;241m=\u001B[39m parcels\u001B[38;5;241m.\u001B[39mAdvectionRK4_3D \u001B[38;5;241m+\u001B[39m \u001B[43mpset\u001B[49m\u001B[38;5;241;43m.\u001B[39;49m\u001B[43mKernel\u001B[49m\u001B[43m(\u001B[49m\u001B[43msample_field\u001B[49m\u001B[43m)\u001B[49m\n\u001B[1;32m     25\u001B[0m     \u001B[38;5;28;01mreturn\u001B[39;00m kernel\n",
      "File \u001B[0;32m~/.local/anaconda/envs/opt-m1-lagrangian/lib/python3.10/site-packages/parcels/particleset/particlesetsoa.py:639\u001B[0m, in \u001B[0;36mParticleSetSOA.Kernel\u001B[0;34m(self, pyfunc, c_include, delete_cfiles)\u001B[0m\n\u001B[1;32m    633\u001B[0m \u001B[38;5;28;01mdef\u001B[39;00m \u001B[38;5;21mKernel\u001B[39m(\u001B[38;5;28mself\u001B[39m, pyfunc, c_include\u001B[38;5;241m=\u001B[39m\u001B[38;5;124m\"\u001B[39m\u001B[38;5;124m\"\u001B[39m, delete_cfiles\u001B[38;5;241m=\u001B[39m\u001B[38;5;28;01mTrue\u001B[39;00m):\n\u001B[1;32m    634\u001B[0m     \u001B[38;5;124;03m\"\"\"Wrapper method to convert a `pyfunc` into a :class:`parcels.kernel.Kernel` object\u001B[39;00m\n\u001B[1;32m    635\u001B[0m \u001B[38;5;124;03m    based on `fieldset` and `ptype` of the ParticleSet\u001B[39;00m\n\u001B[1;32m    636\u001B[0m \n\u001B[1;32m    637\u001B[0m \u001B[38;5;124;03m    :param delete_cfiles: Boolean whether to delete the C-files after compilation in JIT mode (default is True)\u001B[39;00m\n\u001B[1;32m    638\u001B[0m \u001B[38;5;124;03m    \"\"\"\u001B[39;00m\n\u001B[0;32m--> 639\u001B[0m     \u001B[38;5;28;01mreturn\u001B[39;00m \u001B[43mKernel\u001B[49m\u001B[43m(\u001B[49m\u001B[38;5;28;43mself\u001B[39;49m\u001B[38;5;241;43m.\u001B[39;49m\u001B[43mfieldset\u001B[49m\u001B[43m,\u001B[49m\u001B[43m \u001B[49m\u001B[38;5;28;43mself\u001B[39;49m\u001B[38;5;241;43m.\u001B[39;49m\u001B[43mcollection\u001B[49m\u001B[38;5;241;43m.\u001B[39;49m\u001B[43mptype\u001B[49m\u001B[43m,\u001B[49m\u001B[43m \u001B[49m\u001B[43mpyfunc\u001B[49m\u001B[38;5;241;43m=\u001B[39;49m\u001B[43mpyfunc\u001B[49m\u001B[43m,\u001B[49m\u001B[43m \u001B[49m\u001B[43mc_include\u001B[49m\u001B[38;5;241;43m=\u001B[39;49m\u001B[43mc_include\u001B[49m\u001B[43m,\u001B[49m\n\u001B[1;32m    640\u001B[0m \u001B[43m                  \u001B[49m\u001B[43mdelete_cfiles\u001B[49m\u001B[38;5;241;43m=\u001B[39;49m\u001B[43mdelete_cfiles\u001B[49m\u001B[43m)\u001B[49m\n",
      "File \u001B[0;32m~/.local/anaconda/envs/opt-m1-lagrangian/lib/python3.10/site-packages/parcels/kernel/kernelsoa.py:95\u001B[0m, in \u001B[0;36mKernelSOA.__init__\u001B[0;34m(self, fieldset, ptype, pyfunc, funcname, funccode, py_ast, funcvars, c_include, delete_cfiles)\u001B[0m\n\u001B[1;32m     93\u001B[0m \u001B[38;5;28;01mif\u001B[39;00m \u001B[38;5;28mself\u001B[39m\u001B[38;5;241m.\u001B[39mptype\u001B[38;5;241m.\u001B[39muses_jit:\n\u001B[1;32m     94\u001B[0m     kernelgen \u001B[38;5;241m=\u001B[39m KernelGenerator(fieldset, ptype)\n\u001B[0;32m---> 95\u001B[0m     kernel_ccode \u001B[38;5;241m=\u001B[39m \u001B[43mkernelgen\u001B[49m\u001B[38;5;241;43m.\u001B[39;49m\u001B[43mgenerate\u001B[49m\u001B[43m(\u001B[49m\u001B[43mdeepcopy\u001B[49m\u001B[43m(\u001B[49m\u001B[38;5;28;43mself\u001B[39;49m\u001B[38;5;241;43m.\u001B[39;49m\u001B[43mpy_ast\u001B[49m\u001B[43m)\u001B[49m\u001B[43m,\u001B[49m\n\u001B[1;32m     96\u001B[0m \u001B[43m                                      \u001B[49m\u001B[38;5;28;43mself\u001B[39;49m\u001B[38;5;241;43m.\u001B[39;49m\u001B[43mfuncvars\u001B[49m\u001B[43m)\u001B[49m\n\u001B[1;32m     97\u001B[0m     \u001B[38;5;28mself\u001B[39m\u001B[38;5;241m.\u001B[39mfield_args \u001B[38;5;241m=\u001B[39m kernelgen\u001B[38;5;241m.\u001B[39mfield_args\n\u001B[1;32m     98\u001B[0m     \u001B[38;5;28mself\u001B[39m\u001B[38;5;241m.\u001B[39mvector_field_args \u001B[38;5;241m=\u001B[39m kernelgen\u001B[38;5;241m.\u001B[39mvector_field_args\n",
      "File \u001B[0;32m~/.local/anaconda/envs/opt-m1-lagrangian/lib/python3.10/site-packages/parcels/compilation/codegenerator.py:527\u001B[0m, in \u001B[0;36mAbstractKernelGenerator.generate\u001B[0;34m(self, py_ast, funcvars)\u001B[0m\n\u001B[1;32m    524\u001B[0m \u001B[38;5;28;01mdef\u001B[39;00m \u001B[38;5;21mgenerate\u001B[39m(\u001B[38;5;28mself\u001B[39m, py_ast, funcvars):\n\u001B[1;32m    525\u001B[0m     \u001B[38;5;66;03m# Replace occurences of intrinsic objects in Python AST\u001B[39;00m\n\u001B[1;32m    526\u001B[0m     transformer \u001B[38;5;241m=\u001B[39m IntrinsicTransformer(\u001B[38;5;28mself\u001B[39m\u001B[38;5;241m.\u001B[39mfieldset, \u001B[38;5;28mself\u001B[39m\u001B[38;5;241m.\u001B[39mptype)\n\u001B[0;32m--> 527\u001B[0m     py_ast \u001B[38;5;241m=\u001B[39m \u001B[43mtransformer\u001B[49m\u001B[38;5;241;43m.\u001B[39;49m\u001B[43mvisit\u001B[49m\u001B[43m(\u001B[49m\u001B[43mpy_ast\u001B[49m\u001B[43m)\u001B[49m\n\u001B[1;32m    529\u001B[0m     \u001B[38;5;66;03m# Untangle Pythonic tuple-assignment statements\u001B[39;00m\n\u001B[1;32m    530\u001B[0m     py_ast \u001B[38;5;241m=\u001B[39m TupleSplitter()\u001B[38;5;241m.\u001B[39mvisit(py_ast)\n",
      "File \u001B[0;32m~/.local/anaconda/envs/opt-m1-lagrangian/lib/python3.10/ast.py:410\u001B[0m, in \u001B[0;36mNodeVisitor.visit\u001B[0;34m(self, node)\u001B[0m\n\u001B[1;32m    408\u001B[0m method \u001B[38;5;241m=\u001B[39m \u001B[38;5;124m'\u001B[39m\u001B[38;5;124mvisit_\u001B[39m\u001B[38;5;124m'\u001B[39m \u001B[38;5;241m+\u001B[39m node\u001B[38;5;241m.\u001B[39m\u001B[38;5;18m__class__\u001B[39m\u001B[38;5;241m.\u001B[39m\u001B[38;5;18m__name__\u001B[39m\n\u001B[1;32m    409\u001B[0m visitor \u001B[38;5;241m=\u001B[39m \u001B[38;5;28mgetattr\u001B[39m(\u001B[38;5;28mself\u001B[39m, method, \u001B[38;5;28mself\u001B[39m\u001B[38;5;241m.\u001B[39mgeneric_visit)\n\u001B[0;32m--> 410\u001B[0m \u001B[38;5;28;01mreturn\u001B[39;00m \u001B[43mvisitor\u001B[49m\u001B[43m(\u001B[49m\u001B[43mnode\u001B[49m\u001B[43m)\u001B[49m\n",
      "File \u001B[0;32m~/.local/anaconda/envs/opt-m1-lagrangian/lib/python3.10/ast.py:486\u001B[0m, in \u001B[0;36mNodeTransformer.generic_visit\u001B[0;34m(self, node)\u001B[0m\n\u001B[1;32m    484\u001B[0m \u001B[38;5;28;01mfor\u001B[39;00m value \u001B[38;5;129;01min\u001B[39;00m old_value:\n\u001B[1;32m    485\u001B[0m     \u001B[38;5;28;01mif\u001B[39;00m \u001B[38;5;28misinstance\u001B[39m(value, AST):\n\u001B[0;32m--> 486\u001B[0m         value \u001B[38;5;241m=\u001B[39m \u001B[38;5;28;43mself\u001B[39;49m\u001B[38;5;241;43m.\u001B[39;49m\u001B[43mvisit\u001B[49m\u001B[43m(\u001B[49m\u001B[43mvalue\u001B[49m\u001B[43m)\u001B[49m\n\u001B[1;32m    487\u001B[0m         \u001B[38;5;28;01mif\u001B[39;00m value \u001B[38;5;129;01mis\u001B[39;00m \u001B[38;5;28;01mNone\u001B[39;00m:\n\u001B[1;32m    488\u001B[0m             \u001B[38;5;28;01mcontinue\u001B[39;00m\n",
      "File \u001B[0;32m~/.local/anaconda/envs/opt-m1-lagrangian/lib/python3.10/ast.py:410\u001B[0m, in \u001B[0;36mNodeVisitor.visit\u001B[0;34m(self, node)\u001B[0m\n\u001B[1;32m    408\u001B[0m method \u001B[38;5;241m=\u001B[39m \u001B[38;5;124m'\u001B[39m\u001B[38;5;124mvisit_\u001B[39m\u001B[38;5;124m'\u001B[39m \u001B[38;5;241m+\u001B[39m node\u001B[38;5;241m.\u001B[39m\u001B[38;5;18m__class__\u001B[39m\u001B[38;5;241m.\u001B[39m\u001B[38;5;18m__name__\u001B[39m\n\u001B[1;32m    409\u001B[0m visitor \u001B[38;5;241m=\u001B[39m \u001B[38;5;28mgetattr\u001B[39m(\u001B[38;5;28mself\u001B[39m, method, \u001B[38;5;28mself\u001B[39m\u001B[38;5;241m.\u001B[39mgeneric_visit)\n\u001B[0;32m--> 410\u001B[0m \u001B[38;5;28;01mreturn\u001B[39;00m \u001B[43mvisitor\u001B[49m\u001B[43m(\u001B[49m\u001B[43mnode\u001B[49m\u001B[43m)\u001B[49m\n",
      "File \u001B[0;32m~/.local/anaconda/envs/opt-m1-lagrangian/lib/python3.10/site-packages/parcels/compilation/codegenerator.py:410\u001B[0m, in \u001B[0;36mIntrinsicTransformer.visit_Assign\u001B[0;34m(self, node)\u001B[0m\n\u001B[1;32m    409\u001B[0m \u001B[38;5;28;01mdef\u001B[39;00m \u001B[38;5;21mvisit_Assign\u001B[39m(\u001B[38;5;28mself\u001B[39m, node):\n\u001B[0;32m--> 410\u001B[0m     node\u001B[38;5;241m.\u001B[39mtargets \u001B[38;5;241m=\u001B[39m [\u001B[38;5;28mself\u001B[39m\u001B[38;5;241m.\u001B[39mvisit(t) \u001B[38;5;28;01mfor\u001B[39;00m t \u001B[38;5;129;01min\u001B[39;00m node\u001B[38;5;241m.\u001B[39mtargets]\n\u001B[1;32m    411\u001B[0m     node\u001B[38;5;241m.\u001B[39mvalue \u001B[38;5;241m=\u001B[39m \u001B[38;5;28mself\u001B[39m\u001B[38;5;241m.\u001B[39mvisit(node\u001B[38;5;241m.\u001B[39mvalue)\n\u001B[1;32m    412\u001B[0m     stmts \u001B[38;5;241m=\u001B[39m [node]\n",
      "File \u001B[0;32m~/.local/anaconda/envs/opt-m1-lagrangian/lib/python3.10/site-packages/parcels/compilation/codegenerator.py:410\u001B[0m, in \u001B[0;36m<listcomp>\u001B[0;34m(.0)\u001B[0m\n\u001B[1;32m    409\u001B[0m \u001B[38;5;28;01mdef\u001B[39;00m \u001B[38;5;21mvisit_Assign\u001B[39m(\u001B[38;5;28mself\u001B[39m, node):\n\u001B[0;32m--> 410\u001B[0m     node\u001B[38;5;241m.\u001B[39mtargets \u001B[38;5;241m=\u001B[39m [\u001B[38;5;28;43mself\u001B[39;49m\u001B[38;5;241;43m.\u001B[39;49m\u001B[43mvisit\u001B[49m\u001B[43m(\u001B[49m\u001B[43mt\u001B[49m\u001B[43m)\u001B[49m \u001B[38;5;28;01mfor\u001B[39;00m t \u001B[38;5;129;01min\u001B[39;00m node\u001B[38;5;241m.\u001B[39mtargets]\n\u001B[1;32m    411\u001B[0m     node\u001B[38;5;241m.\u001B[39mvalue \u001B[38;5;241m=\u001B[39m \u001B[38;5;28mself\u001B[39m\u001B[38;5;241m.\u001B[39mvisit(node\u001B[38;5;241m.\u001B[39mvalue)\n\u001B[1;32m    412\u001B[0m     stmts \u001B[38;5;241m=\u001B[39m [node]\n",
      "File \u001B[0;32m~/.local/anaconda/envs/opt-m1-lagrangian/lib/python3.10/ast.py:410\u001B[0m, in \u001B[0;36mNodeVisitor.visit\u001B[0;34m(self, node)\u001B[0m\n\u001B[1;32m    408\u001B[0m method \u001B[38;5;241m=\u001B[39m \u001B[38;5;124m'\u001B[39m\u001B[38;5;124mvisit_\u001B[39m\u001B[38;5;124m'\u001B[39m \u001B[38;5;241m+\u001B[39m node\u001B[38;5;241m.\u001B[39m\u001B[38;5;18m__class__\u001B[39m\u001B[38;5;241m.\u001B[39m\u001B[38;5;18m__name__\u001B[39m\n\u001B[1;32m    409\u001B[0m visitor \u001B[38;5;241m=\u001B[39m \u001B[38;5;28mgetattr\u001B[39m(\u001B[38;5;28mself\u001B[39m, method, \u001B[38;5;28mself\u001B[39m\u001B[38;5;241m.\u001B[39mgeneric_visit)\n\u001B[0;32m--> 410\u001B[0m \u001B[38;5;28;01mreturn\u001B[39;00m \u001B[43mvisitor\u001B[49m\u001B[43m(\u001B[49m\u001B[43mnode\u001B[49m\u001B[43m)\u001B[49m\n",
      "File \u001B[0;32m~/.local/anaconda/envs/opt-m1-lagrangian/lib/python3.10/site-packages/parcels/compilation/codegenerator.py:328\u001B[0m, in \u001B[0;36mIntrinsicTransformer.visit_Attribute\u001B[0;34m(self, node)\u001B[0m\n\u001B[1;32m    326\u001B[0m     \u001B[38;5;28;01mif\u001B[39;00m node\u001B[38;5;241m.\u001B[39mattr \u001B[38;5;241m==\u001B[39m \u001B[38;5;124m'\u001B[39m\u001B[38;5;124mupdate_next_dt\u001B[39m\u001B[38;5;124m'\u001B[39m:\n\u001B[1;32m    327\u001B[0m         \u001B[38;5;28;01mreturn\u001B[39;00m \u001B[38;5;124m'\u001B[39m\u001B[38;5;124mupdate_next_dt\u001B[39m\u001B[38;5;124m'\u001B[39m\n\u001B[0;32m--> 328\u001B[0m     \u001B[38;5;28;01mreturn\u001B[39;00m \u001B[38;5;28;43mgetattr\u001B[39;49m\u001B[43m(\u001B[49m\u001B[43mnode\u001B[49m\u001B[38;5;241;43m.\u001B[39;49m\u001B[43mvalue\u001B[49m\u001B[43m,\u001B[49m\u001B[43m \u001B[49m\u001B[43mnode\u001B[49m\u001B[38;5;241;43m.\u001B[39;49m\u001B[43mattr\u001B[49m\u001B[43m)\u001B[49m\n\u001B[1;32m    329\u001B[0m \u001B[38;5;28;01melse\u001B[39;00m:\n\u001B[1;32m    330\u001B[0m     \u001B[38;5;28;01mif\u001B[39;00m node\u001B[38;5;241m.\u001B[39mvalue\u001B[38;5;241m.\u001B[39mid \u001B[38;5;129;01min\u001B[39;00m [\u001B[38;5;124m'\u001B[39m\u001B[38;5;124mnp\u001B[39m\u001B[38;5;124m'\u001B[39m, \u001B[38;5;124m'\u001B[39m\u001B[38;5;124mnumpy\u001B[39m\u001B[38;5;124m'\u001B[39m]:\n",
      "File \u001B[0;32m~/.local/anaconda/envs/opt-m1-lagrangian/lib/python3.10/site-packages/parcels/compilation/codegenerator.py:276\u001B[0m, in \u001B[0;36mParticleNode.__getattr__\u001B[0;34m(self, attr)\u001B[0m\n\u001B[1;32m    274\u001B[0m             \u001B[38;5;28;01mreturn\u001B[39;00m \u001B[38;5;28mself\u001B[39m\u001B[38;5;241m.\u001B[39mattr_node_class(\u001B[38;5;28mself\u001B[39m, \u001B[38;5;124m'\u001B[39m\u001B[38;5;124mstate\u001B[39m\u001B[38;5;124m'\u001B[39m)\n\u001B[1;32m    275\u001B[0m         \u001B[38;5;28;01melse\u001B[39;00m:\n\u001B[0;32m--> 276\u001B[0m             \u001B[38;5;28;01mraise\u001B[39;00m \u001B[38;5;167;01mAttributeError\u001B[39;00m(\u001B[38;5;124m\"\"\"\u001B[39m\u001B[38;5;124mParticle type \u001B[39m\u001B[38;5;132;01m%s\u001B[39;00m\u001B[38;5;124m does not define attribute \u001B[39m\u001B[38;5;124m\"\u001B[39m\u001B[38;5;132;01m%s\u001B[39;00m\u001B[38;5;124m\"\u001B[39m\u001B[38;5;124m.\u001B[39m\n\u001B[1;32m    277\u001B[0m \u001B[38;5;124mPlease add \u001B[39m\u001B[38;5;124m'\u001B[39m\u001B[38;5;132;01m%s\u001B[39;00m\u001B[38;5;124m'\u001B[39m\u001B[38;5;124m to \u001B[39m\u001B[38;5;132;01m%s\u001B[39;00m\u001B[38;5;124m.users_vars or define an appropriate sub-class.\u001B[39m\u001B[38;5;124m\"\"\"\u001B[39m\n\u001B[1;32m    278\u001B[0m                                  \u001B[38;5;241m%\u001B[39m (\u001B[38;5;28mself\u001B[39m\u001B[38;5;241m.\u001B[39mobj, attr, attr, \u001B[38;5;28mself\u001B[39m\u001B[38;5;241m.\u001B[39mobj))\n",
      "\u001B[0;31mAttributeError\u001B[0m: Particle type PType<ArraySampleParticleInitZero>::[PVar<lon|<class 'numpy.float64'>>, PVar<lat|<class 'numpy.float64'>>, PVar<depth|<class 'numpy.float64'>>, PVar<time|<class 'numpy.float64'>>, PVar<id|<class 'numpy.int64'>>, PVar<dt|<class 'numpy.float64'>>, PVar<_next_dt|<class 'numpy.float64'>>, PVar<once_written|<class 'numpy.int32'>>, PVar<state|<class 'numpy.int32'>>, PVar<U|<class 'numpy.float32'>>, PVar<V|<class 'numpy.float32'>>, PVar<W|<class 'numpy.float32'>>, PVar<temperature|<class 'numpy.float32'>>, PVar<salinity|<class 'numpy.float32'>>, PVar<ngrids|<class 'numpy.int32'>>, PVar<xi|<class 'numpy.int32'>>, PVar<yi|<class 'numpy.int32'>>, PVar<zi|<class 'numpy.int32'>>, PVar<ti|<class 'numpy.int32'>>] does not define attribute \"u_vel\".\nPlease add 'u_vel' to PType<ArraySampleParticleInitZero>::[PVar<lon|<class 'numpy.float64'>>, PVar<lat|<class 'numpy.float64'>>, PVar<depth|<class 'numpy.float64'>>, PVar<time|<class 'numpy.float64'>>, PVar<id|<class 'numpy.int64'>>, PVar<dt|<class 'numpy.float64'>>, PVar<_next_dt|<class 'numpy.float64'>>, PVar<once_written|<class 'numpy.int32'>>, PVar<state|<class 'numpy.int32'>>, PVar<U|<class 'numpy.float32'>>, PVar<V|<class 'numpy.float32'>>, PVar<W|<class 'numpy.float32'>>, PVar<temperature|<class 'numpy.float32'>>, PVar<salinity|<class 'numpy.float32'>>, PVar<ngrids|<class 'numpy.int32'>>, PVar<xi|<class 'numpy.int32'>>, PVar<yi|<class 'numpy.int32'>>, PVar<zi|<class 'numpy.int32'>>, PVar<ti|<class 'numpy.int32'>>].users_vars or define an appropriate sub-class."
     ]
    }
   ],
   "source": [
    "kernel = setup_kernel(pset)\n",
    "# kernel = parcels.AdvectionRK4_3D"
   ],
   "metadata": {
    "collapsed": false
   }
  },
  {
   "cell_type": "code",
   "execution_count": null,
   "outputs": [],
   "source": [
    "output_file = pset.ParticleFile(\n",
    "    name='output_sampling.zarr', outputdt=datetime.timedelta(hours=6)\n",
    ")\n",
    "starttime = datetime.datetime(2010, 1, 1, 12)\n",
    "endtime = starttime + datetime.timedelta(days=4)\n",
    "runtime = endtime - starttime\n",
    "\n",
    "pset.execute(\n",
    "    kernel,\n",
    "    runtime=runtime,\n",
    "    dt=datetime.timedelta(hours=6),\n",
    "    output_file=output_file,\n",
    "    recovery={parcels.ErrorCode.ErrorOutOfBounds: DeleteParticle},\n",
    ")"
   ],
   "metadata": {
    "collapsed": false
   }
  },
  {
   "cell_type": "code",
   "execution_count": null,
   "outputs": [],
   "source": [
    "parcels.plotTrajectoriesFile('output_sampling.zarr')"
   ],
   "metadata": {
    "collapsed": false
   }
  },
  {
   "cell_type": "code",
   "execution_count": null,
   "outputs": [],
   "source": [
    "particles = xarray.open_zarr('output_sampling.zarr')"
   ],
   "metadata": {
    "collapsed": false
   }
  },
  {
   "cell_type": "code",
   "execution_count": null,
   "outputs": [],
   "source": [
    "particles"
   ],
   "metadata": {
    "collapsed": false
   }
  },
  {
   "cell_type": "code",
   "execution_count": null,
   "outputs": [],
   "source": [
    "particles.S.values"
   ],
   "metadata": {
    "collapsed": false
   }
  },
  {
   "cell_type": "code",
   "execution_count": null,
   "outputs": [],
   "source": [],
   "metadata": {
    "collapsed": false
   }
  }
 ],
 "metadata": {
  "kernelspec": {
   "display_name": "Python 3",
   "language": "python",
   "name": "python3"
  },
  "language_info": {
   "codemirror_mode": {
    "name": "ipython",
    "version": 2
   },
   "file_extension": ".py",
   "mimetype": "text/x-python",
   "name": "python",
   "nbconvert_exporter": "python",
   "pygments_lexer": "ipython2",
   "version": "2.7.6"
  }
 },
 "nbformat": 4,
 "nbformat_minor": 0
}

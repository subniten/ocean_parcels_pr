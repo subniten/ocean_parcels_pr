{
 "cells": [
  {
   "cell_type": "markdown",
   "id": "345abdc4-fc07-4cf1-8b58-24a64c2ebc89",
   "metadata": {},
   "source": [
    "# Adapted from tutorial nemo 3"
   ]
  },
  {
   "cell_type": "code",
   "execution_count": null,
   "id": "68d604f3-92be-40c9-b2a9-4ef185a0c2e9",
   "metadata": {
    "pycharm": {
     "is_executing": true
    }
   },
   "outputs": [],
   "source": [
    "import pathlib\n",
    "\n",
    "from parcels import FieldSet, Field, ParticleSet, JITParticle, AdvectionRK4_3D\n",
    "\n",
    "from parcels import logger, XarrayDecodedFilter\n",
    "logger.addFilter(XarrayDecodedFilter())  # Add a filter for the xarray decoding warning\n",
    "\n",
    "# Subset, lower left corner of my grid\n",
    "enatl_data_path = pathlib.Path('day_1_5')\n",
    "\n",
    "u_files = sorted(enatl_data_path.glob('*1d_vozocrtx*'))\n",
    "v_files = sorted(enatl_data_path.glob('*1d_vomecrty*'))\n",
    "w_files = sorted(enatl_data_path.glob('*1d_vovecrtz*'))\n",
    "\n",
    "assert len(u_files) == len(w_files)\n",
    "assert len(u_files) == len(v_files)\n",
    "\n",
    "enatl_mesh_mask_file = enatl_data_path / 'mesh_mask_eNATL60FARSHE_3.6.nc'"
   ]
  },
  {
   "cell_type": "markdown",
   "id": "08dceb0c",
   "metadata": {},
   "source": [
    "The given data files are on u-, v, and, w-points respectively. The data is output from a nemo 3.6 model run, [[https://github.com/ocean-next/eNATL60]]\n",
    "\n",
    "According to the [[NEMO 3D tutorial|https://nbviewer.jupyter.org/github/OceanParcels/parcels/blob/master/parcels/examples/tutorial_nemo_3D.ipynb]], the f-points should be given."
   ]
  },
  {
   "cell_type": "code",
   "execution_count": null,
   "id": "67ea0b08-7869-48b2-bdd5-0a69b5963356",
   "metadata": {
    "pycharm": {
     "is_executing": true
    }
   },
   "outputs": [],
   "source": [
    "filenames_as_in_tutorial = {\n",
    "    'U': {'lon': enatl_mesh_mask_file, 'lat': enatl_mesh_mask_file, 'depth': w_files[0], 'data': u_files},\n",
    "    'V': {'lon': enatl_mesh_mask_file, 'lat': enatl_mesh_mask_file, 'depth': w_files[0], 'data': v_files},\n",
    "    'W': {'lon': enatl_mesh_mask_file, 'lat': enatl_mesh_mask_file, 'depth': w_files[0], 'data': w_files},\n",
    "}\n",
    "\n",
    "variables = {\n",
    "    'U': 'vozocrtx',\n",
    "    'V': 'vomecrty',\n",
    "    'W': 'vovecrtz',\n",
    "}\n",
    "\n",
    "dimensions_as_in_tutorial = {\n",
    "    'U': {'lon': 'glamf', 'lat': 'gphif', 'depth': 'depthw', 'time': 'time_counter'},\n",
    "    'V': {'lon': 'glamf', 'lat': 'gphif', 'depth': 'depthw', 'time': 'time_counter'},\n",
    "    'W': {'lon': 'glamf', 'lat': 'gphif', 'depth': 'depthw', 'time': 'time_counter'},\n",
    "}\n"
   ]
  },
  {
   "cell_type": "code",
   "execution_count": null,
   "id": "738077da-1cab-45c4-86c9-ef67c9b17d65",
   "metadata": {
    "pycharm": {
     "is_executing": true
    }
   },
   "outputs": [],
   "source": [
    "fieldset_as_in_tutorial = FieldSet.from_nemo(filenames_as_in_tutorial, variables, dimensions_as_in_tutorial)"
   ]
  },
  {
   "cell_type": "code",
   "execution_count": null,
   "id": "d51a8472",
   "metadata": {
    "collapsed": false,
    "jupyter": {
     "outputs_hidden": false
    },
    "pycharm": {
     "is_executing": true
    }
   },
   "outputs": [],
   "source": [
    "fieldset_as_in_tutorial.U.show()"
   ]
  },
  {
   "cell_type": "markdown",
   "id": "233ea6ec",
   "metadata": {},
   "source": [
    "But also, from the documentation string from ``parcels.FieldSet.from_c_grid_dataset\n",
    "\n",
    "       To interpolate U, V velocities on the C-grid, Parcels needs to read the f-nodes,\n",
    "       which are located on the corners of the cells.\n",
    "       (for indexing details: https://www.nemo-ocean.eu/doc/img360.png )\n",
    "       In 3D, the depth is the one corresponding to W nodes.\n",
    "\n",
    "# Question\n",
    "So, if I already have my variables o the fieldset, why don't I do the following?"
   ]
  },
  {
   "cell_type": "code",
   "execution_count": null,
   "id": "649f922f",
   "metadata": {
    "collapsed": false,
    "jupyter": {
     "outputs_hidden": false
    },
    "pycharm": {
     "is_executing": true
    }
   },
   "outputs": [],
   "source": [
    "filenames_assuming_c_grid = {\n",
    "    'U': {'lon': enatl_mesh_mask_file, 'lat': enatl_mesh_mask_file, 'depth': u_files[0], 'data': u_files},\n",
    "    'V': {'lon': enatl_mesh_mask_file, 'lat': enatl_mesh_mask_file, 'depth': v_files[0], 'data': v_files},\n",
    "    'W': {'lon': enatl_mesh_mask_file, 'lat': enatl_mesh_mask_file, 'depth': w_files[0], 'data': w_files},\n",
    "}\n",
    "\n",
    "variables = {\n",
    "    'U': 'vozocrtx',\n",
    "    'V': 'vomecrty',\n",
    "    'W': 'vovecrtz',\n",
    "}\n",
    "\n",
    "dimensions_assuming_c_grid = {\n",
    "    'U': {'lon': 'glamu', 'lat': 'gphiu', 'depth': 'depthu', 'time': 'time_counter'},\n",
    "    'V': {'lon': 'glamv', 'lat': 'gphiv', 'depth': 'depthv', 'time': 'time_counter'},\n",
    "    'W': {'lon': 'glamw', 'lat': 'gphiw', 'depth': 'depthw', 'time': 'time_counter'},\n",
    "}\n"
   ]
  },
  {
   "cell_type": "code",
   "execution_count": null,
   "id": "58370879-f4a3-4dd6-96c9-62c24f8b7719",
   "metadata": {
    "pycharm": {
     "is_executing": true
    }
   },
   "outputs": [],
   "source": [
    "fieldset_c_grid_points = FieldSet.from_nemo(filenames_assuming_c_grid, variables, dimensions_assuming_c_grid)"
   ]
  },
  {
   "cell_type": "markdown",
   "id": "203f7445-7416-45ae-8e51-607b9676f3db",
   "metadata": {},
   "source": [
    "Now I want to add temperature and salinity. In the [[NEMO 3D tutorial|https://nbviewer.jupyter.org/github/OceanParcels/parcels/blob/master/parcels/examples/tutorial_nemo_3D.ipynb]], they exemplify this by adding scale factor. They are given on the t-points. Why should these variables be given on their t-points and not on the f-points?"
   ]
  },
  {
   "cell_type": "code",
   "execution_count": null,
   "id": "42ca25bf",
   "metadata": {
    "collapsed": false,
    "jupyter": {
     "outputs_hidden": false
    },
    "pycharm": {
     "is_executing": true
    }
   },
   "outputs": [],
   "source": [
    "vosalinity_files = sorted(enatl_data_path.glob('*1d_vosaline*'))\n",
    "votemper_files =  sorted(enatl_data_path.glob('*1d_votemper*'))\n",
    "\n",
    "# regardless of naming,\n",
    "dimensions_t_points = dict(lon='nav_lon', lat='nav_lat', depth='deptht', time='time_counter')\n",
    "\n",
    "vosalinity = Field.from_netcdf(vosalinity_files, ('S', 'vosaline'), dimensions_t_points)\n",
    "votemper = Field.from_netcdf(votemper_files, ('T', 'votemper'), dimensions_t_points)"
   ]
  },
  {
   "cell_type": "code",
   "execution_count": null,
   "id": "a4cbccf9-c9cf-441e-9a52-92bd12ff4a0e",
   "metadata": {
    "pycharm": {
     "is_executing": true
    }
   },
   "outputs": [],
   "source": [
    "# In case I happened to run a parcel execute I reinitialise fildset_as_in_tutorial\n",
    "fieldset_as_in_tutorial = FieldSet.from_nemo(filenames_as_in_tutorial, variables, dimensions_as_in_tutorial)"
   ]
  },
  {
   "cell_type": "code",
   "execution_count": null,
   "id": "d47e6a1c",
   "metadata": {
    "collapsed": false,
    "jupyter": {
     "outputs_hidden": false
    },
    "pycharm": {
     "is_executing": true
    }
   },
   "outputs": [],
   "source": [
    "fieldset_as_in_tutorial.add_field(vosalinity)\n",
    "fieldset_as_in_tutorial.add_field(votemper)"
   ]
  },
  {
   "cell_type": "code",
   "execution_count": null,
   "id": "c700a03d",
   "metadata": {
    "collapsed": false,
    "jupyter": {
     "outputs_hidden": false
    },
    "pycharm": {
     "is_executing": true
    }
   },
   "outputs": [],
   "source": [
    "fieldset_as_in_tutorial.T.show()"
   ]
  },
  {
   "cell_type": "code",
   "execution_count": null,
   "id": "f5425dc4",
   "metadata": {
    "collapsed": false,
    "jupyter": {
     "outputs_hidden": false
    },
    "pycharm": {
     "is_executing": true
    }
   },
   "outputs": [],
   "source": [
    "fieldset_as_in_tutorial.S.show()"
   ]
  },
  {
   "cell_type": "code",
   "execution_count": null,
   "id": "bea802de-7895-412f-9279-37dae9ea9769",
   "metadata": {
    "pycharm": {
     "is_executing": true
    }
   },
   "outputs": [],
   "source": []
  },
  {
   "cell_type": "code",
   "execution_count": null,
   "id": "2327ceb2-e1d3-4210-a113-6eea80a832a8",
   "metadata": {
    "pycharm": {
     "is_executing": true
    }
   },
   "outputs": [],
   "source": []
  }
 ],
 "metadata": {
  "kernelspec": {
   "display_name": "Python 3 (ipykernel)",
   "language": "python",
   "name": "python3"
  },
  "language_info": {
   "codemirror_mode": {
    "name": "ipython",
    "version": 3
   },
   "file_extension": ".py",
   "mimetype": "text/x-python",
   "name": "python",
   "nbconvert_exporter": "python",
   "pygments_lexer": "ipython3",
   "version": "3.10.6"
  }
 },
 "nbformat": 4,
 "nbformat_minor": 5
}

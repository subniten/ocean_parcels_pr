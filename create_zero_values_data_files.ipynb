{
 "cells": [
  {
   "cell_type": "code",
   "execution_count": null,
   "outputs": [],
   "source": [
    "import pathlib\n",
    "\n",
    "import xarray\n",
    "\n",
    "enatl_dir = pathlib.Path('day_1_5')"
   ],
   "metadata": {
    "collapsed": false
   }
  },
  {
   "cell_type": "code",
   "execution_count": null,
   "outputs": [],
   "source": [
    "enatl_uvw_zero_dir = enatl_dir.parent / 'enatl60_vw_zero'\n",
    "enatl_uvw_zero_dir.mkdir(exist_ok=True)\n",
    "\n",
    "for fp in list(enatl_dir.glob('*vozocrtx*')):\n",
    "    vozo = xarray.open_dataset(fp)\n",
    "    u = vozo['vozocrtx']\n",
    "    vozo['vozocrtx'] = 0 * u\n",
    "    output_file = enatl_uvw_zero_dir / fp.name\n",
    "    vozo.to_netcdf(output_file)\n",
    "\n",
    "for fp in list(enatl_dir.glob('*vomecrty*')):\n",
    "    vome = xarray.open_dataset(fp)\n",
    "    vome['vomecrty'] = 0.0 * vome + 1/3600\n",
    "    vome['vomecrty'][:, :2, :, :] = 0.0 * vome[:, :2, :, :]\n",
    "    output_file = enatl_uvw_zero_dir / fp.name\n",
    "    vome.to_netcdf(output_file)\n",
    "\n",
    "\n",
    "for fp in list(enatl_dir.glob('*vovecrtz*')):\n",
    "    vove = xarray.open_dataset(fp)\n",
    "    vove['vovecrtz'] = 0.0 * vove['vovecrtz'] + 1/3600\n",
    "    vove['vovecrtz'][:, :2, :, :] = 0.0 * vove[:, :2, :, :]\n",
    "    output_file = enatl_uvw_zero_dir / fp.name\n",
    "    vove.to_netcdf(output_file)\n"
   ],
   "metadata": {
    "collapsed": false
   }
  },
  {
   "cell_type": "code",
   "execution_count": null,
   "outputs": [],
   "source": [
    "enatl_w_constant_data_dir = enatl_dir.parent / 'enatl60_w_constant'\n",
    "enatl_w_constant_data_dir.mkdir(exist_ok=True)\n",
    "\n",
    "for fp in list(enatl_dir.glob('*vovecrtz*')):\n",
    "    vove = xarray.open_dataset(fp)\n",
    "    vove['vovecrtz'] = 0.0 * vove['vovecrtz'] + 1/3600\n",
    "    vove['vovecrtz'][:, :2, :, :] = 0.0 * vove['vovecrtz'][:, :2, :, :]\n",
    "    output_file = enatl_w_constant_data_dir / fp.name\n",
    "    vove.to_netcdf(output_file)"
   ],
   "metadata": {
    "collapsed": false
   }
  }
 ],
 "metadata": {
  "kernelspec": {
   "display_name": "Python 3",
   "language": "python",
   "name": "python3"
  },
  "language_info": {
   "codemirror_mode": {
    "name": "ipython",
    "version": 2
   },
   "file_extension": ".py",
   "mimetype": "text/x-python",
   "name": "python",
   "nbconvert_exporter": "python",
   "pygments_lexer": "ipython2",
   "version": "2.7.6"
  }
 },
 "nbformat": 4,
 "nbformat_minor": 0
}
